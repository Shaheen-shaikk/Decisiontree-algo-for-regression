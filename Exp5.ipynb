{
  "nbformat": 4,
  "nbformat_minor": 0,
  "metadata": {
    "colab": {
      "provenance": []
    },
    "kernelspec": {
      "name": "python3",
      "display_name": "Python 3"
    },
    "language_info": {
      "name": "python"
    }
  },
  "cells": [
    {
      "cell_type": "code",
      "execution_count": null,
      "metadata": {
        "id": "71K2Qu_7LSW3"
      },
      "outputs": [],
      "source": [
        "import pandas as pd\n",
        "from sklearn.model_selection import train_test_split\n",
        "from sklearn.linear_model import LogisticRegression\n",
        "from sklearn.metrics import accuracy_score, classification_report, confusion_matrix"
      ]
    },
    {
      "cell_type": "code",
      "source": [
        "# Load the dataset (replace &#39;your_dataset.csv&#39; with your actual file path)\n",
        "# Ensure your dataset has a column for the target variable (e.g., &#39;Class&#39; for breast_cancer dataset)\n",
        "data = pd.read_csv('/content/breast_cancer.csv')"
      ],
      "metadata": {
        "id": "2zXmKnEzQa1R"
      },
      "execution_count": null,
      "outputs": []
    },
    {
      "cell_type": "code",
      "source": [
        "# Define features (X) and target variable (y)\n",
        "# Assuming Class is the target variable for breast_cancer dataset\n",
        "X = data.drop('Class', axis=1) #Features (all columns except 'Class')\n",
        "y = data['Class'] #Target variable ('Class')\n",
        "\n",
        "# Split data into training and testing sets\n",
        "X_train, X_test, y_train, y_test = train_test_split(X, y, test_size=0.2, random_state=42) #80% train, 20% test\n",
        "\n",
        "# Initialize and train a Logistic Regression model\n",
        "logreg_model = LogisticRegression(max_iter=1000) #You can adjust parameters as needed\n",
        "logreg_model.fit(X_train, y_train)\n",
        "\n",
        "# Make predictions on the test set\n",
        "y_pred = logreg_model.predict(X_test)\n",
        "\n",
        "# Evaluate the model\n",
        "accuracy = accuracy_score(y_test, y_pred)\n",
        "print(f\"Accuracy: {accuracy}\")\n",
        "\n",
        "print(classification_report(y_test, y_pred))\n",
        "\n",
        "# Confusion Matrix\n",
        "cm = confusion_matrix(y_test, y_pred)\n",
        "print(\"Confusion Matrix:\\n\", cm)"
      ],
      "metadata": {
        "colab": {
          "base_uri": "https://localhost:8080/"
        },
        "id": "3x-tk17CWx3A",
        "outputId": "611084b8-85e5-46d5-c27b-aaf78b0ac5b9"
      },
      "execution_count": null,
      "outputs": [
        {
          "output_type": "stream",
          "name": "stdout",
          "text": [
            "Accuracy: 0.9562043795620438\n",
            "              precision    recall  f1-score   support\n",
            "\n",
            "           2       0.94      0.99      0.96        79\n",
            "           4       0.98      0.91      0.95        58\n",
            "\n",
            "    accuracy                           0.96       137\n",
            "   macro avg       0.96      0.95      0.95       137\n",
            "weighted avg       0.96      0.96      0.96       137\n",
            "\n",
            "Confusion Matrix:\n",
            " [[78  1]\n",
            " [ 5 53]]\n"
          ]
        }
      ]
    }
  ]
}